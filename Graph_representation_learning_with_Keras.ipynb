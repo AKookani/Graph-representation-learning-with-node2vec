{
  "nbformat": 4,
  "nbformat_minor": 0,
  "metadata": {
    "colab": {
      "provenance": []
    },
    "kernelspec": {
      "name": "python3",
      "display_name": "Python 3"
    },
    "language_info": {
      "name": "python"
    }
  },
  "cells": [
    {
      "cell_type": "markdown",
      "source": [
        "# Setup"
      ],
      "metadata": {
        "id": "xO2qIHCFimCl"
      }
    },
    {
      "cell_type": "code",
      "source": [
        "import os\n",
        "from collections import defaultdict\n",
        "import math\n",
        "import networkx as nx\n",
        "import random\n",
        "from tqdm import tqdm\n",
        "from zipfile import ZipFile\n",
        "from urllib.request import urlretrieve\n",
        "import numpy as np\n",
        "import pandas as pd\n",
        "import tensorflow as tf\n",
        "from tensorflow import keras\n",
        "from tensorflow.keras import layers\n",
        "import matplotlib.pyplot as plt"
      ],
      "metadata": {
        "id": "hkvc555iinku"
      },
      "execution_count": 3,
      "outputs": []
    },
    {
      "cell_type": "markdown",
      "source": [
        "# Download the MovieLens dataset and prepare the data\n"
      ],
      "metadata": {
        "id": "Lti6MlCQiBb8"
      }
    },
    {
      "cell_type": "code",
      "execution_count": 4,
      "metadata": {
        "id": "0XhJFflqhzRP"
      },
      "outputs": [],
      "source": [
        "urlretrieve(\n",
        "    \"http://files.grouplens.org/datasets/movielens/ml-latest-small.zip\", \"movielens.zip\"\n",
        ")\n",
        "ZipFile(\"movielens.zip\", \"r\").extractall()"
      ]
    },
    {
      "cell_type": "code",
      "source": [
        "# Load movies to a DataFrame.\n",
        "movies = pd.read_csv(\"ml-latest-small/movies.csv\")\n",
        "# Create a `movieId` string.\n",
        "movies[\"movieId\"] = movies[\"movieId\"].apply(lambda x: f\"movie_{x}\")\n",
        "\n",
        "# Load ratings to a DataFrame.\n",
        "ratings = pd.read_csv(\"ml-latest-small/ratings.csv\")\n",
        "# Convert the `ratings` to floating point\n",
        "ratings[\"rating\"] = ratings[\"rating\"].apply(lambda x: float(x))\n",
        "# Create the `movie_id` string.\n",
        "ratings[\"movieId\"] = ratings[\"movieId\"].apply(lambda x: f\"movie_{x}\")\n",
        "\n",
        "print(\"Movies data shape:\", movies.shape)\n",
        "print(\"Ratings data shape:\", ratings.shape)"
      ],
      "metadata": {
        "colab": {
          "base_uri": "https://localhost:8080/"
        },
        "id": "-ut7MqxTiEwJ",
        "outputId": "f41ed4d2-1e7d-4e57-bfae-6766a45aeb3f"
      },
      "execution_count": 5,
      "outputs": [
        {
          "output_type": "stream",
          "name": "stdout",
          "text": [
            "Movies data shape: (9742, 3)\n",
            "Ratings data shape: (100836, 4)\n"
          ]
        }
      ]
    },
    {
      "cell_type": "code",
      "source": [
        "ratings.head()"
      ],
      "metadata": {
        "colab": {
          "base_uri": "https://localhost:8080/",
          "height": 206
        },
        "id": "HZDy4vR6iHwD",
        "outputId": "8bc184f2-720f-467d-d0a7-eae5a0cec226"
      },
      "execution_count": 7,
      "outputs": [
        {
          "output_type": "execute_result",
          "data": {
            "text/plain": [
              "   userId   movieId  rating  timestamp\n",
              "0       1   movie_1     4.0  964982703\n",
              "1       1   movie_3     4.0  964981247\n",
              "2       1   movie_6     4.0  964982224\n",
              "3       1  movie_47     5.0  964983815\n",
              "4       1  movie_50     5.0  964982931"
            ],
            "text/html": [
              "\n",
              "  <div id=\"df-2316426d-7d8b-4007-b10a-c0ce29b7915f\" class=\"colab-df-container\">\n",
              "    <div>\n",
              "<style scoped>\n",
              "    .dataframe tbody tr th:only-of-type {\n",
              "        vertical-align: middle;\n",
              "    }\n",
              "\n",
              "    .dataframe tbody tr th {\n",
              "        vertical-align: top;\n",
              "    }\n",
              "\n",
              "    .dataframe thead th {\n",
              "        text-align: right;\n",
              "    }\n",
              "</style>\n",
              "<table border=\"1\" class=\"dataframe\">\n",
              "  <thead>\n",
              "    <tr style=\"text-align: right;\">\n",
              "      <th></th>\n",
              "      <th>userId</th>\n",
              "      <th>movieId</th>\n",
              "      <th>rating</th>\n",
              "      <th>timestamp</th>\n",
              "    </tr>\n",
              "  </thead>\n",
              "  <tbody>\n",
              "    <tr>\n",
              "      <th>0</th>\n",
              "      <td>1</td>\n",
              "      <td>movie_1</td>\n",
              "      <td>4.0</td>\n",
              "      <td>964982703</td>\n",
              "    </tr>\n",
              "    <tr>\n",
              "      <th>1</th>\n",
              "      <td>1</td>\n",
              "      <td>movie_3</td>\n",
              "      <td>4.0</td>\n",
              "      <td>964981247</td>\n",
              "    </tr>\n",
              "    <tr>\n",
              "      <th>2</th>\n",
              "      <td>1</td>\n",
              "      <td>movie_6</td>\n",
              "      <td>4.0</td>\n",
              "      <td>964982224</td>\n",
              "    </tr>\n",
              "    <tr>\n",
              "      <th>3</th>\n",
              "      <td>1</td>\n",
              "      <td>movie_47</td>\n",
              "      <td>5.0</td>\n",
              "      <td>964983815</td>\n",
              "    </tr>\n",
              "    <tr>\n",
              "      <th>4</th>\n",
              "      <td>1</td>\n",
              "      <td>movie_50</td>\n",
              "      <td>5.0</td>\n",
              "      <td>964982931</td>\n",
              "    </tr>\n",
              "  </tbody>\n",
              "</table>\n",
              "</div>\n",
              "    <div class=\"colab-df-buttons\">\n",
              "\n",
              "  <div class=\"colab-df-container\">\n",
              "    <button class=\"colab-df-convert\" onclick=\"convertToInteractive('df-2316426d-7d8b-4007-b10a-c0ce29b7915f')\"\n",
              "            title=\"Convert this dataframe to an interactive table.\"\n",
              "            style=\"display:none;\">\n",
              "\n",
              "  <svg xmlns=\"http://www.w3.org/2000/svg\" height=\"24px\" viewBox=\"0 -960 960 960\">\n",
              "    <path d=\"M120-120v-720h720v720H120Zm60-500h600v-160H180v160Zm220 220h160v-160H400v160Zm0 220h160v-160H400v160ZM180-400h160v-160H180v160Zm440 0h160v-160H620v160ZM180-180h160v-160H180v160Zm440 0h160v-160H620v160Z\"/>\n",
              "  </svg>\n",
              "    </button>\n",
              "\n",
              "  <style>\n",
              "    .colab-df-container {\n",
              "      display:flex;\n",
              "      gap: 12px;\n",
              "    }\n",
              "\n",
              "    .colab-df-convert {\n",
              "      background-color: #E8F0FE;\n",
              "      border: none;\n",
              "      border-radius: 50%;\n",
              "      cursor: pointer;\n",
              "      display: none;\n",
              "      fill: #1967D2;\n",
              "      height: 32px;\n",
              "      padding: 0 0 0 0;\n",
              "      width: 32px;\n",
              "    }\n",
              "\n",
              "    .colab-df-convert:hover {\n",
              "      background-color: #E2EBFA;\n",
              "      box-shadow: 0px 1px 2px rgba(60, 64, 67, 0.3), 0px 1px 3px 1px rgba(60, 64, 67, 0.15);\n",
              "      fill: #174EA6;\n",
              "    }\n",
              "\n",
              "    .colab-df-buttons div {\n",
              "      margin-bottom: 4px;\n",
              "    }\n",
              "\n",
              "    [theme=dark] .colab-df-convert {\n",
              "      background-color: #3B4455;\n",
              "      fill: #D2E3FC;\n",
              "    }\n",
              "\n",
              "    [theme=dark] .colab-df-convert:hover {\n",
              "      background-color: #434B5C;\n",
              "      box-shadow: 0px 1px 3px 1px rgba(0, 0, 0, 0.15);\n",
              "      filter: drop-shadow(0px 1px 2px rgba(0, 0, 0, 0.3));\n",
              "      fill: #FFFFFF;\n",
              "    }\n",
              "  </style>\n",
              "\n",
              "    <script>\n",
              "      const buttonEl =\n",
              "        document.querySelector('#df-2316426d-7d8b-4007-b10a-c0ce29b7915f button.colab-df-convert');\n",
              "      buttonEl.style.display =\n",
              "        google.colab.kernel.accessAllowed ? 'block' : 'none';\n",
              "\n",
              "      async function convertToInteractive(key) {\n",
              "        const element = document.querySelector('#df-2316426d-7d8b-4007-b10a-c0ce29b7915f');\n",
              "        const dataTable =\n",
              "          await google.colab.kernel.invokeFunction('convertToInteractive',\n",
              "                                                    [key], {});\n",
              "        if (!dataTable) return;\n",
              "\n",
              "        const docLinkHtml = 'Like what you see? Visit the ' +\n",
              "          '<a target=\"_blank\" href=https://colab.research.google.com/notebooks/data_table.ipynb>data table notebook</a>'\n",
              "          + ' to learn more about interactive tables.';\n",
              "        element.innerHTML = '';\n",
              "        dataTable['output_type'] = 'display_data';\n",
              "        await google.colab.output.renderOutput(dataTable, element);\n",
              "        const docLink = document.createElement('div');\n",
              "        docLink.innerHTML = docLinkHtml;\n",
              "        element.appendChild(docLink);\n",
              "      }\n",
              "    </script>\n",
              "  </div>\n",
              "\n",
              "\n",
              "<div id=\"df-70639bbc-0f53-488f-9988-52ba4d9d0e36\">\n",
              "  <button class=\"colab-df-quickchart\" onclick=\"quickchart('df-70639bbc-0f53-488f-9988-52ba4d9d0e36')\"\n",
              "            title=\"Suggest charts\"\n",
              "            style=\"display:none;\">\n",
              "\n",
              "<svg xmlns=\"http://www.w3.org/2000/svg\" height=\"24px\"viewBox=\"0 0 24 24\"\n",
              "     width=\"24px\">\n",
              "    <g>\n",
              "        <path d=\"M19 3H5c-1.1 0-2 .9-2 2v14c0 1.1.9 2 2 2h14c1.1 0 2-.9 2-2V5c0-1.1-.9-2-2-2zM9 17H7v-7h2v7zm4 0h-2V7h2v10zm4 0h-2v-4h2v4z\"/>\n",
              "    </g>\n",
              "</svg>\n",
              "  </button>\n",
              "\n",
              "<style>\n",
              "  .colab-df-quickchart {\n",
              "      --bg-color: #E8F0FE;\n",
              "      --fill-color: #1967D2;\n",
              "      --hover-bg-color: #E2EBFA;\n",
              "      --hover-fill-color: #174EA6;\n",
              "      --disabled-fill-color: #AAA;\n",
              "      --disabled-bg-color: #DDD;\n",
              "  }\n",
              "\n",
              "  [theme=dark] .colab-df-quickchart {\n",
              "      --bg-color: #3B4455;\n",
              "      --fill-color: #D2E3FC;\n",
              "      --hover-bg-color: #434B5C;\n",
              "      --hover-fill-color: #FFFFFF;\n",
              "      --disabled-bg-color: #3B4455;\n",
              "      --disabled-fill-color: #666;\n",
              "  }\n",
              "\n",
              "  .colab-df-quickchart {\n",
              "    background-color: var(--bg-color);\n",
              "    border: none;\n",
              "    border-radius: 50%;\n",
              "    cursor: pointer;\n",
              "    display: none;\n",
              "    fill: var(--fill-color);\n",
              "    height: 32px;\n",
              "    padding: 0;\n",
              "    width: 32px;\n",
              "  }\n",
              "\n",
              "  .colab-df-quickchart:hover {\n",
              "    background-color: var(--hover-bg-color);\n",
              "    box-shadow: 0 1px 2px rgba(60, 64, 67, 0.3), 0 1px 3px 1px rgba(60, 64, 67, 0.15);\n",
              "    fill: var(--button-hover-fill-color);\n",
              "  }\n",
              "\n",
              "  .colab-df-quickchart-complete:disabled,\n",
              "  .colab-df-quickchart-complete:disabled:hover {\n",
              "    background-color: var(--disabled-bg-color);\n",
              "    fill: var(--disabled-fill-color);\n",
              "    box-shadow: none;\n",
              "  }\n",
              "\n",
              "  .colab-df-spinner {\n",
              "    border: 2px solid var(--fill-color);\n",
              "    border-color: transparent;\n",
              "    border-bottom-color: var(--fill-color);\n",
              "    animation:\n",
              "      spin 1s steps(1) infinite;\n",
              "  }\n",
              "\n",
              "  @keyframes spin {\n",
              "    0% {\n",
              "      border-color: transparent;\n",
              "      border-bottom-color: var(--fill-color);\n",
              "      border-left-color: var(--fill-color);\n",
              "    }\n",
              "    20% {\n",
              "      border-color: transparent;\n",
              "      border-left-color: var(--fill-color);\n",
              "      border-top-color: var(--fill-color);\n",
              "    }\n",
              "    30% {\n",
              "      border-color: transparent;\n",
              "      border-left-color: var(--fill-color);\n",
              "      border-top-color: var(--fill-color);\n",
              "      border-right-color: var(--fill-color);\n",
              "    }\n",
              "    40% {\n",
              "      border-color: transparent;\n",
              "      border-right-color: var(--fill-color);\n",
              "      border-top-color: var(--fill-color);\n",
              "    }\n",
              "    60% {\n",
              "      border-color: transparent;\n",
              "      border-right-color: var(--fill-color);\n",
              "    }\n",
              "    80% {\n",
              "      border-color: transparent;\n",
              "      border-right-color: var(--fill-color);\n",
              "      border-bottom-color: var(--fill-color);\n",
              "    }\n",
              "    90% {\n",
              "      border-color: transparent;\n",
              "      border-bottom-color: var(--fill-color);\n",
              "    }\n",
              "  }\n",
              "</style>\n",
              "\n",
              "  <script>\n",
              "    async function quickchart(key) {\n",
              "      const quickchartButtonEl =\n",
              "        document.querySelector('#' + key + ' button');\n",
              "      quickchartButtonEl.disabled = true;  // To prevent multiple clicks.\n",
              "      quickchartButtonEl.classList.add('colab-df-spinner');\n",
              "      try {\n",
              "        const charts = await google.colab.kernel.invokeFunction(\n",
              "            'suggestCharts', [key], {});\n",
              "      } catch (error) {\n",
              "        console.error('Error during call to suggestCharts:', error);\n",
              "      }\n",
              "      quickchartButtonEl.classList.remove('colab-df-spinner');\n",
              "      quickchartButtonEl.classList.add('colab-df-quickchart-complete');\n",
              "    }\n",
              "    (() => {\n",
              "      let quickchartButtonEl =\n",
              "        document.querySelector('#df-70639bbc-0f53-488f-9988-52ba4d9d0e36 button');\n",
              "      quickchartButtonEl.style.display =\n",
              "        google.colab.kernel.accessAllowed ? 'block' : 'none';\n",
              "    })();\n",
              "  </script>\n",
              "</div>\n",
              "    </div>\n",
              "  </div>\n"
            ],
            "application/vnd.google.colaboratory.intrinsic+json": {
              "type": "dataframe",
              "variable_name": "ratings"
            }
          },
          "metadata": {},
          "execution_count": 7
        }
      ]
    },
    {
      "cell_type": "code",
      "source": [
        "movies.head()"
      ],
      "metadata": {
        "colab": {
          "base_uri": "https://localhost:8080/",
          "height": 223
        },
        "id": "L17eR4RDisjH",
        "outputId": "edf8372a-fe0b-4485-c4a2-5ea6b5eda338"
      },
      "execution_count": 8,
      "outputs": [
        {
          "output_type": "execute_result",
          "data": {
            "text/plain": [
              "   movieId                               title  \\\n",
              "0  movie_1                    Toy Story (1995)   \n",
              "1  movie_2                      Jumanji (1995)   \n",
              "2  movie_3             Grumpier Old Men (1995)   \n",
              "3  movie_4            Waiting to Exhale (1995)   \n",
              "4  movie_5  Father of the Bride Part II (1995)   \n",
              "\n",
              "                                        genres  \n",
              "0  Adventure|Animation|Children|Comedy|Fantasy  \n",
              "1                   Adventure|Children|Fantasy  \n",
              "2                               Comedy|Romance  \n",
              "3                         Comedy|Drama|Romance  \n",
              "4                                       Comedy  "
            ],
            "text/html": [
              "\n",
              "  <div id=\"df-11c9b641-0997-44c9-8ec8-f04bea406db6\" class=\"colab-df-container\">\n",
              "    <div>\n",
              "<style scoped>\n",
              "    .dataframe tbody tr th:only-of-type {\n",
              "        vertical-align: middle;\n",
              "    }\n",
              "\n",
              "    .dataframe tbody tr th {\n",
              "        vertical-align: top;\n",
              "    }\n",
              "\n",
              "    .dataframe thead th {\n",
              "        text-align: right;\n",
              "    }\n",
              "</style>\n",
              "<table border=\"1\" class=\"dataframe\">\n",
              "  <thead>\n",
              "    <tr style=\"text-align: right;\">\n",
              "      <th></th>\n",
              "      <th>movieId</th>\n",
              "      <th>title</th>\n",
              "      <th>genres</th>\n",
              "    </tr>\n",
              "  </thead>\n",
              "  <tbody>\n",
              "    <tr>\n",
              "      <th>0</th>\n",
              "      <td>movie_1</td>\n",
              "      <td>Toy Story (1995)</td>\n",
              "      <td>Adventure|Animation|Children|Comedy|Fantasy</td>\n",
              "    </tr>\n",
              "    <tr>\n",
              "      <th>1</th>\n",
              "      <td>movie_2</td>\n",
              "      <td>Jumanji (1995)</td>\n",
              "      <td>Adventure|Children|Fantasy</td>\n",
              "    </tr>\n",
              "    <tr>\n",
              "      <th>2</th>\n",
              "      <td>movie_3</td>\n",
              "      <td>Grumpier Old Men (1995)</td>\n",
              "      <td>Comedy|Romance</td>\n",
              "    </tr>\n",
              "    <tr>\n",
              "      <th>3</th>\n",
              "      <td>movie_4</td>\n",
              "      <td>Waiting to Exhale (1995)</td>\n",
              "      <td>Comedy|Drama|Romance</td>\n",
              "    </tr>\n",
              "    <tr>\n",
              "      <th>4</th>\n",
              "      <td>movie_5</td>\n",
              "      <td>Father of the Bride Part II (1995)</td>\n",
              "      <td>Comedy</td>\n",
              "    </tr>\n",
              "  </tbody>\n",
              "</table>\n",
              "</div>\n",
              "    <div class=\"colab-df-buttons\">\n",
              "\n",
              "  <div class=\"colab-df-container\">\n",
              "    <button class=\"colab-df-convert\" onclick=\"convertToInteractive('df-11c9b641-0997-44c9-8ec8-f04bea406db6')\"\n",
              "            title=\"Convert this dataframe to an interactive table.\"\n",
              "            style=\"display:none;\">\n",
              "\n",
              "  <svg xmlns=\"http://www.w3.org/2000/svg\" height=\"24px\" viewBox=\"0 -960 960 960\">\n",
              "    <path d=\"M120-120v-720h720v720H120Zm60-500h600v-160H180v160Zm220 220h160v-160H400v160Zm0 220h160v-160H400v160ZM180-400h160v-160H180v160Zm440 0h160v-160H620v160ZM180-180h160v-160H180v160Zm440 0h160v-160H620v160Z\"/>\n",
              "  </svg>\n",
              "    </button>\n",
              "\n",
              "  <style>\n",
              "    .colab-df-container {\n",
              "      display:flex;\n",
              "      gap: 12px;\n",
              "    }\n",
              "\n",
              "    .colab-df-convert {\n",
              "      background-color: #E8F0FE;\n",
              "      border: none;\n",
              "      border-radius: 50%;\n",
              "      cursor: pointer;\n",
              "      display: none;\n",
              "      fill: #1967D2;\n",
              "      height: 32px;\n",
              "      padding: 0 0 0 0;\n",
              "      width: 32px;\n",
              "    }\n",
              "\n",
              "    .colab-df-convert:hover {\n",
              "      background-color: #E2EBFA;\n",
              "      box-shadow: 0px 1px 2px rgba(60, 64, 67, 0.3), 0px 1px 3px 1px rgba(60, 64, 67, 0.15);\n",
              "      fill: #174EA6;\n",
              "    }\n",
              "\n",
              "    .colab-df-buttons div {\n",
              "      margin-bottom: 4px;\n",
              "    }\n",
              "\n",
              "    [theme=dark] .colab-df-convert {\n",
              "      background-color: #3B4455;\n",
              "      fill: #D2E3FC;\n",
              "    }\n",
              "\n",
              "    [theme=dark] .colab-df-convert:hover {\n",
              "      background-color: #434B5C;\n",
              "      box-shadow: 0px 1px 3px 1px rgba(0, 0, 0, 0.15);\n",
              "      filter: drop-shadow(0px 1px 2px rgba(0, 0, 0, 0.3));\n",
              "      fill: #FFFFFF;\n",
              "    }\n",
              "  </style>\n",
              "\n",
              "    <script>\n",
              "      const buttonEl =\n",
              "        document.querySelector('#df-11c9b641-0997-44c9-8ec8-f04bea406db6 button.colab-df-convert');\n",
              "      buttonEl.style.display =\n",
              "        google.colab.kernel.accessAllowed ? 'block' : 'none';\n",
              "\n",
              "      async function convertToInteractive(key) {\n",
              "        const element = document.querySelector('#df-11c9b641-0997-44c9-8ec8-f04bea406db6');\n",
              "        const dataTable =\n",
              "          await google.colab.kernel.invokeFunction('convertToInteractive',\n",
              "                                                    [key], {});\n",
              "        if (!dataTable) return;\n",
              "\n",
              "        const docLinkHtml = 'Like what you see? Visit the ' +\n",
              "          '<a target=\"_blank\" href=https://colab.research.google.com/notebooks/data_table.ipynb>data table notebook</a>'\n",
              "          + ' to learn more about interactive tables.';\n",
              "        element.innerHTML = '';\n",
              "        dataTable['output_type'] = 'display_data';\n",
              "        await google.colab.output.renderOutput(dataTable, element);\n",
              "        const docLink = document.createElement('div');\n",
              "        docLink.innerHTML = docLinkHtml;\n",
              "        element.appendChild(docLink);\n",
              "      }\n",
              "    </script>\n",
              "  </div>\n",
              "\n",
              "\n",
              "<div id=\"df-3e65b5b9-d314-4832-8f2b-d1244729dfa1\">\n",
              "  <button class=\"colab-df-quickchart\" onclick=\"quickchart('df-3e65b5b9-d314-4832-8f2b-d1244729dfa1')\"\n",
              "            title=\"Suggest charts\"\n",
              "            style=\"display:none;\">\n",
              "\n",
              "<svg xmlns=\"http://www.w3.org/2000/svg\" height=\"24px\"viewBox=\"0 0 24 24\"\n",
              "     width=\"24px\">\n",
              "    <g>\n",
              "        <path d=\"M19 3H5c-1.1 0-2 .9-2 2v14c0 1.1.9 2 2 2h14c1.1 0 2-.9 2-2V5c0-1.1-.9-2-2-2zM9 17H7v-7h2v7zm4 0h-2V7h2v10zm4 0h-2v-4h2v4z\"/>\n",
              "    </g>\n",
              "</svg>\n",
              "  </button>\n",
              "\n",
              "<style>\n",
              "  .colab-df-quickchart {\n",
              "      --bg-color: #E8F0FE;\n",
              "      --fill-color: #1967D2;\n",
              "      --hover-bg-color: #E2EBFA;\n",
              "      --hover-fill-color: #174EA6;\n",
              "      --disabled-fill-color: #AAA;\n",
              "      --disabled-bg-color: #DDD;\n",
              "  }\n",
              "\n",
              "  [theme=dark] .colab-df-quickchart {\n",
              "      --bg-color: #3B4455;\n",
              "      --fill-color: #D2E3FC;\n",
              "      --hover-bg-color: #434B5C;\n",
              "      --hover-fill-color: #FFFFFF;\n",
              "      --disabled-bg-color: #3B4455;\n",
              "      --disabled-fill-color: #666;\n",
              "  }\n",
              "\n",
              "  .colab-df-quickchart {\n",
              "    background-color: var(--bg-color);\n",
              "    border: none;\n",
              "    border-radius: 50%;\n",
              "    cursor: pointer;\n",
              "    display: none;\n",
              "    fill: var(--fill-color);\n",
              "    height: 32px;\n",
              "    padding: 0;\n",
              "    width: 32px;\n",
              "  }\n",
              "\n",
              "  .colab-df-quickchart:hover {\n",
              "    background-color: var(--hover-bg-color);\n",
              "    box-shadow: 0 1px 2px rgba(60, 64, 67, 0.3), 0 1px 3px 1px rgba(60, 64, 67, 0.15);\n",
              "    fill: var(--button-hover-fill-color);\n",
              "  }\n",
              "\n",
              "  .colab-df-quickchart-complete:disabled,\n",
              "  .colab-df-quickchart-complete:disabled:hover {\n",
              "    background-color: var(--disabled-bg-color);\n",
              "    fill: var(--disabled-fill-color);\n",
              "    box-shadow: none;\n",
              "  }\n",
              "\n",
              "  .colab-df-spinner {\n",
              "    border: 2px solid var(--fill-color);\n",
              "    border-color: transparent;\n",
              "    border-bottom-color: var(--fill-color);\n",
              "    animation:\n",
              "      spin 1s steps(1) infinite;\n",
              "  }\n",
              "\n",
              "  @keyframes spin {\n",
              "    0% {\n",
              "      border-color: transparent;\n",
              "      border-bottom-color: var(--fill-color);\n",
              "      border-left-color: var(--fill-color);\n",
              "    }\n",
              "    20% {\n",
              "      border-color: transparent;\n",
              "      border-left-color: var(--fill-color);\n",
              "      border-top-color: var(--fill-color);\n",
              "    }\n",
              "    30% {\n",
              "      border-color: transparent;\n",
              "      border-left-color: var(--fill-color);\n",
              "      border-top-color: var(--fill-color);\n",
              "      border-right-color: var(--fill-color);\n",
              "    }\n",
              "    40% {\n",
              "      border-color: transparent;\n",
              "      border-right-color: var(--fill-color);\n",
              "      border-top-color: var(--fill-color);\n",
              "    }\n",
              "    60% {\n",
              "      border-color: transparent;\n",
              "      border-right-color: var(--fill-color);\n",
              "    }\n",
              "    80% {\n",
              "      border-color: transparent;\n",
              "      border-right-color: var(--fill-color);\n",
              "      border-bottom-color: var(--fill-color);\n",
              "    }\n",
              "    90% {\n",
              "      border-color: transparent;\n",
              "      border-bottom-color: var(--fill-color);\n",
              "    }\n",
              "  }\n",
              "</style>\n",
              "\n",
              "  <script>\n",
              "    async function quickchart(key) {\n",
              "      const quickchartButtonEl =\n",
              "        document.querySelector('#' + key + ' button');\n",
              "      quickchartButtonEl.disabled = true;  // To prevent multiple clicks.\n",
              "      quickchartButtonEl.classList.add('colab-df-spinner');\n",
              "      try {\n",
              "        const charts = await google.colab.kernel.invokeFunction(\n",
              "            'suggestCharts', [key], {});\n",
              "      } catch (error) {\n",
              "        console.error('Error during call to suggestCharts:', error);\n",
              "      }\n",
              "      quickchartButtonEl.classList.remove('colab-df-spinner');\n",
              "      quickchartButtonEl.classList.add('colab-df-quickchart-complete');\n",
              "    }\n",
              "    (() => {\n",
              "      let quickchartButtonEl =\n",
              "        document.querySelector('#df-3e65b5b9-d314-4832-8f2b-d1244729dfa1 button');\n",
              "      quickchartButtonEl.style.display =\n",
              "        google.colab.kernel.accessAllowed ? 'block' : 'none';\n",
              "    })();\n",
              "  </script>\n",
              "</div>\n",
              "    </div>\n",
              "  </div>\n"
            ],
            "application/vnd.google.colaboratory.intrinsic+json": {
              "type": "dataframe",
              "variable_name": "movies",
              "summary": "{\n  \"name\": \"movies\",\n  \"rows\": 9742,\n  \"fields\": [\n    {\n      \"column\": \"movieId\",\n      \"properties\": {\n        \"dtype\": \"string\",\n        \"num_unique_values\": 9742,\n        \"samples\": [\n          \"movie_45635\",\n          \"movie_1373\",\n          \"movie_7325\"\n        ],\n        \"semantic_type\": \"\",\n        \"description\": \"\"\n      }\n    },\n    {\n      \"column\": \"title\",\n      \"properties\": {\n        \"dtype\": \"string\",\n        \"num_unique_values\": 9737,\n        \"samples\": [\n          \"Teenage Mutant Ninja Turtles (2014)\",\n          \"America's Sweethearts (2001)\",\n          \"Cast Away (2000)\"\n        ],\n        \"semantic_type\": \"\",\n        \"description\": \"\"\n      }\n    },\n    {\n      \"column\": \"genres\",\n      \"properties\": {\n        \"dtype\": \"category\",\n        \"num_unique_values\": 951,\n        \"samples\": [\n          \"Crime|Mystery|Romance|Thriller\",\n          \"Action|Adventure|Comedy|Western\",\n          \"Crime|Drama|Musical\"\n        ],\n        \"semantic_type\": \"\",\n        \"description\": \"\"\n      }\n    }\n  ]\n}"
            }
          },
          "metadata": {},
          "execution_count": 8
        }
      ]
    },
    {
      "cell_type": "code",
      "source": [
        "def get_movie_title_by_id(movieId):\n",
        "    return list(movies[movies.movieId == movieId].title)[0]\n",
        "\n",
        "\n",
        "def get_movie_id_by_title(title):\n",
        "    return list(movies[movies.title == title].movieId)[0]"
      ],
      "metadata": {
        "id": "w1Dh2RtqivEJ"
      },
      "execution_count": 9,
      "outputs": []
    },
    {
      "cell_type": "markdown",
      "source": [
        "# Construct the Movies graph"
      ],
      "metadata": {
        "id": "D-Wpi_-six0-"
      }
    },
    {
      "cell_type": "markdown",
      "source": [
        "### Step 1: create the weighted edges between movies.\n"
      ],
      "metadata": {
        "id": "w852bjAni2Mk"
      }
    },
    {
      "cell_type": "code",
      "source": [
        "min_rating = 5\n",
        "pair_frequency = defaultdict(int)\n",
        "item_frequency = defaultdict(int)\n",
        "\n",
        "# Filter instances where rating is greater than or equal to min_rating.\n",
        "rated_movies = ratings[ratings.rating >= min_rating]\n",
        "# Group instances by user.\n",
        "movies_grouped_by_users = list(rated_movies.groupby(\"userId\"))\n",
        "for group in tqdm(\n",
        "    movies_grouped_by_users,\n",
        "    position=0,\n",
        "    leave=True,\n",
        "    desc=\"Compute movie rating frequencies\",\n",
        "):\n",
        "    # Get a list of movies rated by the user.\n",
        "    current_movies = list(group[1][\"movieId\"])\n",
        "\n",
        "    for i in range(len(current_movies)):\n",
        "        item_frequency[current_movies[i]] += 1\n",
        "        for j in range(i + 1, len(current_movies)):\n",
        "            x = min(current_movies[i], current_movies[j])\n",
        "            y = max(current_movies[i], current_movies[j])\n",
        "            pair_frequency[(x, y)] += 1"
      ],
      "metadata": {
        "colab": {
          "base_uri": "https://localhost:8080/"
        },
        "id": "VEqf6Kc_iwgz",
        "outputId": "f13f56f1-3bd0-420a-a44b-2c1928df7add"
      },
      "execution_count": 10,
      "outputs": [
        {
          "output_type": "stream",
          "name": "stderr",
          "text": [
            "Compute movie rating frequencies: 100%|██████████| 573/573 [00:00<00:00, 883.77it/s]\n"
          ]
        }
      ]
    },
    {
      "cell_type": "markdown",
      "source": [
        "### Step 2: create the graph with the nodes and the edges"
      ],
      "metadata": {
        "id": "jbll2XN6i92N"
      }
    },
    {
      "cell_type": "code",
      "source": [
        "min_weight = 10\n",
        "D = math.log(sum(item_frequency.values()))\n",
        "\n",
        "# Create the movies undirected graph.\n",
        "movies_graph = nx.Graph()\n",
        "# Add weighted edges between movies.\n",
        "# This automatically adds the movie nodes to the graph.\n",
        "for pair in tqdm(\n",
        "    pair_frequency, position=0, leave=True, desc=\"Creating the movie graph\"\n",
        "):\n",
        "    x, y = pair\n",
        "    xy_frequency = pair_frequency[pair]\n",
        "    x_frequency = item_frequency[x]\n",
        "    y_frequency = item_frequency[y]\n",
        "    pmi = math.log(xy_frequency) - math.log(x_frequency) - math.log(y_frequency) + D\n",
        "    weight = pmi * xy_frequency\n",
        "    # Only include edges with weight >= min_weight.\n",
        "    if weight >= min_weight:\n",
        "        movies_graph.add_edge(x, y, weight=weight)"
      ],
      "metadata": {
        "colab": {
          "base_uri": "https://localhost:8080/"
        },
        "id": "wFscdEjMi8dD",
        "outputId": "95a387ff-03b2-42a2-d0e3-e1b9b23ede48"
      },
      "execution_count": 11,
      "outputs": [
        {
          "output_type": "stream",
          "name": "stderr",
          "text": [
            "Creating the movie graph: 100%|██████████| 298586/298586 [00:00<00:00, 460436.46it/s]\n"
          ]
        }
      ]
    },
    {
      "cell_type": "code",
      "source": [
        "print(\"Total number of graph nodes:\", movies_graph.number_of_nodes())\n",
        "print(\"Total number of graph edges:\", movies_graph.number_of_edges())"
      ],
      "metadata": {
        "colab": {
          "base_uri": "https://localhost:8080/"
        },
        "id": "jpaEo1bHjA8c",
        "outputId": "84ed73cf-e9e7-4440-b7bc-e5273b0718db"
      },
      "execution_count": 12,
      "outputs": [
        {
          "output_type": "stream",
          "name": "stdout",
          "text": [
            "Total number of graph nodes: 1405\n",
            "Total number of graph edges: 40043\n"
          ]
        }
      ]
    },
    {
      "cell_type": "code",
      "source": [
        "degrees = []\n",
        "for node in movies_graph.nodes:\n",
        "    degrees.append(movies_graph.degree[node])\n",
        "\n",
        "print(\"Average node degree:\", round(sum(degrees) / len(degrees), 2))"
      ],
      "metadata": {
        "colab": {
          "base_uri": "https://localhost:8080/"
        },
        "id": "5ODKMbJCjDBt",
        "outputId": "8704b4f1-340d-4195-e497-38ce11d0689d"
      },
      "execution_count": 13,
      "outputs": [
        {
          "output_type": "stream",
          "name": "stdout",
          "text": [
            "Average node degree: 57.0\n"
          ]
        }
      ]
    },
    {
      "cell_type": "markdown",
      "source": [
        "### Step 3: Create vocabulary and a mapping from tokens to integer indices\n"
      ],
      "metadata": {
        "id": "jrhEqHz6jFsN"
      }
    },
    {
      "cell_type": "code",
      "source": [
        "vocabulary = [\"NA\"] + list(movies_graph.nodes)\n",
        "vocabulary_lookup = {token: idx for idx, token in enumerate(vocabulary)}"
      ],
      "metadata": {
        "id": "56RAaAhVjEki"
      },
      "execution_count": 14,
      "outputs": []
    },
    {
      "cell_type": "markdown",
      "source": [
        "# Implement the biased random walk\n",
        "\n"
      ],
      "metadata": {
        "id": "KYmW59rYjJZp"
      }
    },
    {
      "cell_type": "code",
      "source": [
        "def next_step(graph, previous, current, p, q):\n",
        "    neighbors = list(graph.neighbors(current))\n",
        "\n",
        "    weights = []\n",
        "    # Adjust the weights of the edges to the neighbors with respect to p and q.\n",
        "    for neighbor in neighbors:\n",
        "        if neighbor == previous:\n",
        "            # Control the probability to return to the previous node.\n",
        "            weights.append(graph[current][neighbor][\"weight\"] / p)\n",
        "        elif graph.has_edge(neighbor, previous):\n",
        "            # The probability of visiting a local node.\n",
        "            weights.append(graph[current][neighbor][\"weight\"])\n",
        "        else:\n",
        "            # Control the probability to move forward.\n",
        "            weights.append(graph[current][neighbor][\"weight\"] / q)\n",
        "\n",
        "    # Compute the probabilities of visiting each neighbor.\n",
        "    weight_sum = sum(weights)\n",
        "    probabilities = [weight / weight_sum for weight in weights]\n",
        "    # Probabilistically select a neighbor to visit.\n",
        "    next = np.random.choice(neighbors, size=1, p=probabilities)[0]\n",
        "    return next\n",
        "\n",
        "\n",
        "def random_walk(graph, num_walks, num_steps, p, q):\n",
        "    walks = []\n",
        "    nodes = list(graph.nodes())\n",
        "    # Perform multiple iterations of the random walk.\n",
        "    for walk_iteration in range(num_walks):\n",
        "        random.shuffle(nodes)\n",
        "\n",
        "        for node in tqdm(\n",
        "            nodes,\n",
        "            position=0,\n",
        "            leave=True,\n",
        "            desc=f\"Random walks iteration {walk_iteration + 1} of {num_walks}\",\n",
        "        ):\n",
        "            # Start the walk with a random node from the graph.\n",
        "            walk = [node]\n",
        "            # Randomly walk for num_steps.\n",
        "            while len(walk) < num_steps:\n",
        "                current = walk[-1]\n",
        "                previous = walk[-2] if len(walk) > 1 else None\n",
        "                # Compute the next node to visit.\n",
        "                next = next_step(graph, previous, current, p, q)\n",
        "                walk.append(next)\n",
        "            # Replace node ids (movie ids) in the walk with token ids.\n",
        "            walk = [vocabulary_lookup[token] for token in walk]\n",
        "            # Add the walk to the generated sequence.\n",
        "            walks.append(walk)\n",
        "\n",
        "    return walks"
      ],
      "metadata": {
        "id": "emZIoIqNjIPB"
      },
      "execution_count": 15,
      "outputs": []
    },
    {
      "cell_type": "markdown",
      "source": [
        "# Generate training data using the biased random walk\n"
      ],
      "metadata": {
        "id": "SXhH416Cjdbo"
      }
    },
    {
      "cell_type": "code",
      "source": [
        "# Random walk return parameter.\n",
        "p = 1\n",
        "# Random walk in-out parameter.\n",
        "q = 1\n",
        "# Number of iterations of random walks.\n",
        "num_walks = 5\n",
        "# Number of steps of each random walk.\n",
        "num_steps = 10\n",
        "walks = random_walk(movies_graph, num_walks, num_steps, p, q)\n",
        "\n",
        "print(\"Number of walks generated:\", len(walks))"
      ],
      "metadata": {
        "colab": {
          "base_uri": "https://localhost:8080/"
        },
        "id": "LCOjAKDqjbmM",
        "outputId": "cdf101a6-0dd8-44ad-95f1-2041b33469d4"
      },
      "execution_count": 16,
      "outputs": [
        {
          "output_type": "stream",
          "name": "stderr",
          "text": [
            "Random walks iteration 1 of 5: 100%|██████████| 1405/1405 [00:07<00:00, 189.82it/s]\n",
            "Random walks iteration 2 of 5: 100%|██████████| 1405/1405 [00:06<00:00, 224.24it/s]\n",
            "Random walks iteration 3 of 5: 100%|██████████| 1405/1405 [00:07<00:00, 191.83it/s]\n",
            "Random walks iteration 4 of 5: 100%|██████████| 1405/1405 [00:06<00:00, 221.34it/s]\n",
            "Random walks iteration 5 of 5: 100%|██████████| 1405/1405 [00:07<00:00, 189.81it/s]"
          ]
        },
        {
          "output_type": "stream",
          "name": "stdout",
          "text": [
            "Number of walks generated: 7025\n"
          ]
        },
        {
          "output_type": "stream",
          "name": "stderr",
          "text": [
            "\n"
          ]
        }
      ]
    },
    {
      "cell_type": "markdown",
      "source": [
        "# Generate positive and negative examples\n"
      ],
      "metadata": {
        "id": "nQpbxzrqjh_x"
      }
    },
    {
      "cell_type": "code",
      "source": [
        "def generate_examples(sequences, window_size, num_negative_samples, vocabulary_size):\n",
        "    example_weights = defaultdict(int)\n",
        "    # Iterate over all sequences (walks).\n",
        "    for sequence in tqdm(\n",
        "        sequences,\n",
        "        position=0,\n",
        "        leave=True,\n",
        "        desc=f\"Generating positive and negative examples\",\n",
        "    ):\n",
        "        # Generate positive and negative skip-gram pairs for a sequence (walk).\n",
        "        pairs, labels = keras.preprocessing.sequence.skipgrams(\n",
        "            sequence,\n",
        "            vocabulary_size=vocabulary_size,\n",
        "            window_size=window_size,\n",
        "            negative_samples=num_negative_samples,\n",
        "        )\n",
        "        for idx in range(len(pairs)):\n",
        "            pair = pairs[idx]\n",
        "            label = labels[idx]\n",
        "            target, context = min(pair[0], pair[1]), max(pair[0], pair[1])\n",
        "            if target == context:\n",
        "                continue\n",
        "            entry = (target, context, label)\n",
        "            example_weights[entry] += 1\n",
        "\n",
        "    targets, contexts, labels, weights = [], [], [], []\n",
        "    for entry in example_weights:\n",
        "        weight = example_weights[entry]\n",
        "        target, context, label = entry\n",
        "        targets.append(target)\n",
        "        contexts.append(context)\n",
        "        labels.append(label)\n",
        "        weights.append(weight)\n",
        "\n",
        "    return np.array(targets), np.array(contexts), np.array(labels), np.array(weights)\n",
        "\n",
        "\n",
        "num_negative_samples = 4\n",
        "targets, contexts, labels, weights = generate_examples(\n",
        "    sequences=walks,\n",
        "    window_size=num_steps,\n",
        "    num_negative_samples=num_negative_samples,\n",
        "    vocabulary_size=len(vocabulary),\n",
        ")"
      ],
      "metadata": {
        "colab": {
          "base_uri": "https://localhost:8080/"
        },
        "id": "ORmTCNNkjgCG",
        "outputId": "92d9125b-0891-4abc-f980-b61377042362"
      },
      "execution_count": 17,
      "outputs": [
        {
          "output_type": "stream",
          "name": "stderr",
          "text": [
            "Generating positive and negative examples: 100%|██████████| 7025/7025 [00:13<00:00, 504.14it/s]\n"
          ]
        }
      ]
    },
    {
      "cell_type": "code",
      "source": [
        "print(f\"Targets shape: {targets.shape}\")\n",
        "print(f\"Contexts shape: {contexts.shape}\")\n",
        "print(f\"Labels shape: {labels.shape}\")\n",
        "print(f\"Weights shape: {weights.shape}\")"
      ],
      "metadata": {
        "colab": {
          "base_uri": "https://localhost:8080/"
        },
        "id": "V_vFa_O3jmFD",
        "outputId": "1de0c760-ba4c-463a-d8af-f016582b8c6a"
      },
      "execution_count": 18,
      "outputs": [
        {
          "output_type": "stream",
          "name": "stdout",
          "text": [
            "Targets shape: (885182,)\n",
            "Contexts shape: (885182,)\n",
            "Labels shape: (885182,)\n",
            "Weights shape: (885182,)\n"
          ]
        }
      ]
    },
    {
      "cell_type": "markdown",
      "source": [
        "Convert the data into `tf.data.Dataset` objects"
      ],
      "metadata": {
        "id": "-rWHLFNmjsJD"
      }
    },
    {
      "cell_type": "code",
      "source": [
        "batch_size = 1024\n",
        "\n",
        "\n",
        "def create_dataset(targets, contexts, labels, weights, batch_size):\n",
        "    inputs = {\n",
        "        \"target\": targets,\n",
        "        \"context\": contexts,\n",
        "    }\n",
        "    dataset = tf.data.Dataset.from_tensor_slices((inputs, labels, weights))\n",
        "    dataset = dataset.shuffle(buffer_size=batch_size * 2)\n",
        "    dataset = dataset.batch(batch_size, drop_remainder=True)\n",
        "    dataset = dataset.prefetch(tf.data.AUTOTUNE)\n",
        "    return dataset\n",
        "\n",
        "\n",
        "dataset = create_dataset(\n",
        "    targets=targets,\n",
        "    contexts=contexts,\n",
        "    labels=labels,\n",
        "    weights=weights,\n",
        "    batch_size=batch_size,\n",
        ")"
      ],
      "metadata": {
        "id": "r3cECQPIjoKP"
      },
      "execution_count": 19,
      "outputs": []
    },
    {
      "cell_type": "markdown",
      "source": [
        "# Train the skip-gram model\n"
      ],
      "metadata": {
        "id": "CRYa48a-jy_J"
      }
    },
    {
      "cell_type": "code",
      "source": [
        "learning_rate = 0.001\n",
        "embedding_dim = 50\n",
        "num_epochs = 10"
      ],
      "metadata": {
        "id": "ajvc6fWsjxa5"
      },
      "execution_count": 20,
      "outputs": []
    },
    {
      "cell_type": "code",
      "source": [
        "def create_model(vocabulary_size, embedding_dim):\n",
        "\n",
        "    inputs = {\n",
        "        \"target\": layers.Input(name=\"target\", shape=(), dtype=\"int32\"),\n",
        "        \"context\": layers.Input(name=\"context\", shape=(), dtype=\"int32\"),\n",
        "    }\n",
        "    # Initialize item embeddings.\n",
        "    embed_item = layers.Embedding(\n",
        "        input_dim=vocabulary_size,\n",
        "        output_dim=embedding_dim,\n",
        "        embeddings_initializer=\"he_normal\",\n",
        "        embeddings_regularizer=keras.regularizers.l2(1e-6),\n",
        "        name=\"item_embeddings\",\n",
        "    )\n",
        "    # Lookup embeddings for target.\n",
        "    target_embeddings = embed_item(inputs[\"target\"])\n",
        "    # Lookup embeddings for context.\n",
        "    context_embeddings = embed_item(inputs[\"context\"])\n",
        "    # Compute dot similarity between target and context embeddings.\n",
        "    logits = layers.Dot(axes=1, normalize=False, name=\"dot_similarity\")(\n",
        "        [target_embeddings, context_embeddings]\n",
        "    )\n",
        "    # Create the model.\n",
        "    model = keras.Model(inputs=inputs, outputs=logits)\n",
        "    return model"
      ],
      "metadata": {
        "id": "RhzwvGwwj1m5"
      },
      "execution_count": 21,
      "outputs": []
    },
    {
      "cell_type": "code",
      "source": [
        "model = create_model(len(vocabulary), embedding_dim)\n",
        "model.compile(\n",
        "    optimizer=keras.optimizers.Adam(learning_rate),\n",
        "    loss=keras.losses.BinaryCrossentropy(from_logits=True),\n",
        ")"
      ],
      "metadata": {
        "id": "rYziSQXlj4RI"
      },
      "execution_count": 22,
      "outputs": []
    },
    {
      "cell_type": "code",
      "source": [
        "keras.utils.plot_model(\n",
        "    model,\n",
        "    show_shapes=True,\n",
        "    show_dtype=True,\n",
        "    show_layer_names=True,\n",
        ")"
      ],
      "metadata": {
        "colab": {
          "base_uri": "https://localhost:8080/",
          "height": 351
        },
        "id": "4WQ98IMfj6tE",
        "outputId": "263a7947-6304-4d66-9508-572626933699"
      },
      "execution_count": 23,
      "outputs": [
        {
          "output_type": "execute_result",
          "data": {
            "image/png": "[encoded data removed]",
            "text/plain": [
              "<IPython.core.display.Image object>"
            ]
          },
          "metadata": {},
          "execution_count": 23
        }
      ]
    },
    {
      "cell_type": "code",
      "source": [
        "history = model.fit(dataset, epochs=num_epochs)"
      ],
      "metadata": {
        "colab": {
          "base_uri": "https://localhost:8080/"
        },
        "id": "l3QU2sFnj8JZ",
        "outputId": "6619be04-5ff4-4bb2-991c-7381397cabea"
      },
      "execution_count": 24,
      "outputs": [
        {
          "output_type": "stream",
          "name": "stdout",
          "text": [
            "Epoch 1/10\n",
            "\u001b[1m864/864\u001b[0m \u001b[32m━━━━━━━━━━━━━━━━━━━━\u001b[0m\u001b[37m\u001b[0m \u001b[1m10s\u001b[0m 10ms/step - loss: 3.4787\n",
            "Epoch 2/10\n",
            "\u001b[1m864/864\u001b[0m \u001b[32m━━━━━━━━━━━━━━━━━━━━\u001b[0m\u001b[37m\u001b[0m \u001b[1m8s\u001b[0m 9ms/step - loss: 3.3245\n",
            "Epoch 3/10\n",
            "\u001b[1m864/864\u001b[0m \u001b[32m━━━━━━━━━━━━━━━━━━━━\u001b[0m\u001b[37m\u001b[0m \u001b[1m11s\u001b[0m 10ms/step - loss: 3.3070\n",
            "Epoch 4/10\n",
            "\u001b[1m864/864\u001b[0m \u001b[32m━━━━━━━━━━━━━━━━━━━━\u001b[0m\u001b[37m\u001b[0m \u001b[1m11s\u001b[0m 11ms/step - loss: 3.2925\n",
            "Epoch 5/10\n",
            "\u001b[1m864/864\u001b[0m \u001b[32m━━━━━━━━━━━━━━━━━━━━\u001b[0m\u001b[37m\u001b[0m \u001b[1m9s\u001b[0m 10ms/step - loss: 3.2806\n",
            "Epoch 6/10\n",
            "\u001b[1m864/864\u001b[0m \u001b[32m━━━━━━━━━━━━━━━━━━━━\u001b[0m\u001b[37m\u001b[0m \u001b[1m9s\u001b[0m 9ms/step - loss: 3.2701\n",
            "Epoch 7/10\n",
            "\u001b[1m864/864\u001b[0m \u001b[32m━━━━━━━━━━━━━━━━━━━━\u001b[0m\u001b[37m\u001b[0m \u001b[1m9s\u001b[0m 11ms/step - loss: 3.2594\n",
            "Epoch 8/10\n",
            "\u001b[1m864/864\u001b[0m \u001b[32m━━━━━━━━━━━━━━━━━━━━\u001b[0m\u001b[37m\u001b[0m \u001b[1m12s\u001b[0m 13ms/step - loss: 3.2519\n",
            "Epoch 9/10\n",
            "\u001b[1m864/864\u001b[0m \u001b[32m━━━━━━━━━━━━━━━━━━━━\u001b[0m\u001b[37m\u001b[0m \u001b[1m8s\u001b[0m 9ms/step - loss: 3.2458\n",
            "Epoch 10/10\n",
            "\u001b[1m864/864\u001b[0m \u001b[32m━━━━━━━━━━━━━━━━━━━━\u001b[0m\u001b[37m\u001b[0m \u001b[1m10s\u001b[0m 9ms/step - loss: 3.2400\n"
          ]
        }
      ]
    },
    {
      "cell_type": "code",
      "source": [
        "plt.plot(history.history[\"loss\"])\n",
        "plt.ylabel(\"loss\")\n",
        "plt.xlabel(\"epoch\")\n",
        "plt.show()"
      ],
      "metadata": {
        "colab": {
          "base_uri": "https://localhost:8080/",
          "height": 449
        },
        "id": "Qc8HdxHvj9wM",
        "outputId": "e18696bd-584c-4351-96fa-8c7ede370ac7"
      },
      "execution_count": 25,
      "outputs": [
        {
          "output_type": "display_data",
          "data": {
            "text/plain": [
              "<Figure size 640x480 with 1 Axes>"
            ],
            "image/png": "[encoded data removed]"
          },
          "metadata": {}
        }
      ]
    },
    {
      "cell_type": "markdown",
      "source": [
        "# Analyze the learnt embeddings"
      ],
      "metadata": {
        "id": "rVEyIWR8kBSJ"
      }
    },
    {
      "cell_type": "code",
      "source": [
        "movie_embeddings = model.get_layer(\"item_embeddings\").get_weights()[0]\n",
        "print(\"Embeddings shape:\", movie_embeddings.shape)"
      ],
      "metadata": {
        "colab": {
          "base_uri": "https://localhost:8080/"
        },
        "id": "dYYlEC_mj_x9",
        "outputId": "0c463a14-d8b1-4960-9521-4158a45fc8ea"
      },
      "execution_count": 26,
      "outputs": [
        {
          "output_type": "stream",
          "name": "stdout",
          "text": [
            "Embeddings shape: (1406, 50)\n"
          ]
        }
      ]
    },
    {
      "cell_type": "code",
      "source": [
        "query_movies = [\n",
        "    \"Matrix, The (1999)\",\n",
        "    \"Star Wars: Episode IV - A New Hope (1977)\",\n",
        "    \"Lion King, The (1994)\",\n",
        "    \"Terminator 2: Judgment Day (1991)\",\n",
        "    \"Godfather, The (1972)\",\n",
        "]"
      ],
      "metadata": {
        "id": "4kZWboE3kH19"
      },
      "execution_count": 27,
      "outputs": []
    },
    {
      "cell_type": "code",
      "source": [
        "query_embeddings = []\n",
        "\n",
        "for movie_title in query_movies:\n",
        "    movieId = get_movie_id_by_title(movie_title)\n",
        "    token_id = vocabulary_lookup[movieId]\n",
        "    movie_embedding = movie_embeddings[token_id]\n",
        "    query_embeddings.append(movie_embedding)\n",
        "\n",
        "query_embeddings = np.array(query_embeddings)"
      ],
      "metadata": {
        "id": "6X7SavoEkJso"
      },
      "execution_count": 28,
      "outputs": []
    },
    {
      "cell_type": "code",
      "source": [
        "similarities = tf.linalg.matmul(\n",
        "    tf.math.l2_normalize(query_embeddings),\n",
        "    tf.math.l2_normalize(movie_embeddings),\n",
        "    transpose_b=True,\n",
        ")\n",
        "\n",
        "_, indices = tf.math.top_k(similarities, k=5)\n",
        "indices = indices.numpy().tolist()"
      ],
      "metadata": {
        "id": "YKyQ84iLkLVt"
      },
      "execution_count": 29,
      "outputs": []
    },
    {
      "cell_type": "code",
      "source": [
        "for idx, title in enumerate(query_movies):\n",
        "    print(title)\n",
        "    print(\"\".rjust(len(title), \"-\"))\n",
        "    similar_tokens = indices[idx]\n",
        "    for token in similar_tokens:\n",
        "        similar_movieId = vocabulary[token]\n",
        "        similar_title = get_movie_title_by_id(similar_movieId)\n",
        "        print(f\"- {similar_title}\")\n",
        "    print()"
      ],
      "metadata": {
        "colab": {
          "base_uri": "https://localhost:8080/"
        },
        "id": "HXM5I5k5kM3X",
        "outputId": "d3c1f3e5-48fe-4d07-c87b-b274f6273719"
      },
      "execution_count": 30,
      "outputs": [
        {
          "output_type": "stream",
          "name": "stdout",
          "text": [
            "Matrix, The (1999)\n",
            "------------------\n",
            "- Matrix, The (1999)\n",
            "- Fight Club (1999)\n",
            "- Shawshank Redemption, The (1994)\n",
            "- Star Wars: Episode V - The Empire Strikes Back (1980)\n",
            "- Inception (2010)\n",
            "\n",
            "Star Wars: Episode IV - A New Hope (1977)\n",
            "-----------------------------------------\n",
            "- Star Wars: Episode IV - A New Hope (1977)\n",
            "- Star Wars: Episode V - The Empire Strikes Back (1980)\n",
            "- Shawshank Redemption, The (1994)\n",
            "- Forrest Gump (1994)\n",
            "- Fight Club (1999)\n",
            "\n",
            "Lion King, The (1994)\n",
            "---------------------\n",
            "- Lion King, The (1994)\n",
            "- Apollo 13 (1995)\n",
            "- Independence Day (a.k.a. ID4) (1996)\n",
            "- Beauty and the Beast (1991)\n",
            "- Fugitive, The (1993)\n",
            "\n",
            "Terminator 2: Judgment Day (1991)\n",
            "---------------------------------\n",
            "- Terminator 2: Judgment Day (1991)\n",
            "- Fugitive, The (1993)\n",
            "- Forrest Gump (1994)\n",
            "- Shawshank Redemption, The (1994)\n",
            "- Braveheart (1995)\n",
            "\n",
            "Godfather, The (1972)\n",
            "---------------------\n",
            "- Godfather, The (1972)\n",
            "- Godfather: Part II, The (1974)\n",
            "- Apocalypse Now (1979)\n",
            "- Rear Window (1954)\n",
            "- Fargo (1996)\n",
            "\n"
          ]
        }
      ]
    },
    {
      "cell_type": "markdown",
      "source": [
        "# Visualize the embeddings using the Embedding Projector\n"
      ],
      "metadata": {
        "id": "2HfDtqCVkQOx"
      }
    },
    {
      "cell_type": "code",
      "source": [
        "import io\n",
        "\n",
        "out_v = io.open(\"embeddings.tsv\", \"w\", encoding=\"utf-8\")\n",
        "out_m = io.open(\"metadata.tsv\", \"w\", encoding=\"utf-8\")\n",
        "\n",
        "for idx, movie_id in enumerate(vocabulary[1:]):\n",
        "    movie_title = list(movies[movies.movieId == movie_id].title)[0]\n",
        "    vector = movie_embeddings[idx]\n",
        "    out_v.write(\"\\t\".join([str(x) for x in vector]) + \"\\n\")\n",
        "    out_m.write(movie_title + \"\\n\")\n",
        "\n",
        "out_v.close()\n",
        "out_m.close()"
      ],
      "metadata": {
        "id": "-hSZV_YvkOOg"
      },
      "execution_count": 31,
      "outputs": []
    },
    {
      "cell_type": "code",
      "source": [],
      "metadata": {
        "id": "A9me28yekS_t"
      },
      "execution_count": null,
      "outputs": []
    }
  ]
}